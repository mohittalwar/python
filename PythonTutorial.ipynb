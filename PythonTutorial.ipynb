{
  "cells": [
    {
      "cell_type": "markdown",
      "metadata": {
        "colab_type": "text",
        "id": "view-in-github"
      },
      "source": [
        "<a href=\"https://colab.research.google.com/github/mohittalwar/python/blob/main/PythonTutorial.ipynb\" target=\"_parent\"><img src=\"https://colab.research.google.com/assets/colab-badge.svg\" alt=\"Open In Colab\"/></a>"
      ]
    },
    {
      "cell_type": "markdown",
      "metadata": {
        "id": "O88jww3hYGv7"
      },
      "source": [
        "# Python Tutorial++\n",
        "\n",
        "Addendum to [Python 3.5 Tutorial](https://drive.google.com/open?id=1B8IvfcO7Gt_lXT6a-Bbvpqe4BXi5SW4U)"
      ]
    },
    {
      "cell_type": "code",
      "execution_count": 1,
      "metadata": {
        "colab": {
          "base_uri": "https://localhost:8080/"
        },
        "id": "xJ_Bhpe7R_2f",
        "outputId": "5d1caafb-06f7-4c3a-cf27-589c77d4b318"
      },
      "outputs": [
        {
          "name": "stdout",
          "output_type": "stream",
          "text": [
            "Python 3.13.1\n",
            "Requirement already satisfied: aiofiles in ./.venv/lib/python3.13/site-packages (24.1.0)\n",
            "Requirement already satisfied: aiohttp in ./.venv/lib/python3.13/site-packages (3.11.11)\n",
            "Requirement already satisfied: aiohappyeyeballs>=2.3.0 in ./.venv/lib/python3.13/site-packages (from aiohttp) (2.4.4)\n",
            "Requirement already satisfied: aiosignal>=1.1.2 in ./.venv/lib/python3.13/site-packages (from aiohttp) (1.3.2)\n",
            "Requirement already satisfied: attrs>=17.3.0 in ./.venv/lib/python3.13/site-packages (from aiohttp) (25.1.0)\n",
            "Requirement already satisfied: frozenlist>=1.1.1 in ./.venv/lib/python3.13/site-packages (from aiohttp) (1.5.0)\n",
            "Requirement already satisfied: multidict<7.0,>=4.5 in ./.venv/lib/python3.13/site-packages (from aiohttp) (6.1.0)\n",
            "Requirement already satisfied: propcache>=0.2.0 in ./.venv/lib/python3.13/site-packages (from aiohttp) (0.2.1)\n",
            "Requirement already satisfied: yarl<2.0,>=1.17.0 in ./.venv/lib/python3.13/site-packages (from aiohttp) (1.18.3)\n",
            "Requirement already satisfied: idna>=2.0 in ./.venv/lib/python3.13/site-packages (from yarl<2.0,>=1.17.0->aiohttp) (3.10)\n"
          ]
        }
      ],
      "source": [
        "!python3 --version\n",
        "!pip3 install aiofiles aiohttp"
      ]
    },
    {
      "cell_type": "markdown",
      "metadata": {
        "id": "PjU6ABI8Yqhs"
      },
      "source": [
        "## 👫 Match"
      ]
    },
    {
      "cell_type": "code",
      "execution_count": 2,
      "metadata": {
        "id": "Oue9sYWhYAm_"
      },
      "outputs": [],
      "source": [
        "# 1. Take an expression and compare its value to successive patterns\n",
        "def http_error(status: int) -> str:\n",
        "    match status:\n",
        "        case 400:\n",
        "            return \"Bad request\"\n",
        "        case 404:\n",
        "            return \"Not found\"\n",
        "        case 401 | 403:  # multiple literals\n",
        "            return \"Not allowed\"\n",
        "        case _:  # wildcard\n",
        "            return \"Something is wrong with the Internet\"\n",
        "\n",
        "\n",
        "# 2. Bind variables\n",
        "def point_name(point: tuple[int, int]) -> str:\n",
        "    match point:\n",
        "        case (0, 0):\n",
        "            return \"Origin\"\n",
        "        case (0, y):\n",
        "            return f\"Y={y}\"\n",
        "        case (x, 0):\n",
        "            return f\"X={x}\"\n",
        "        case (x, y) if x == y:  # guard match\n",
        "            return f\"Y=X at {x}\"\n",
        "        case (x, y):\n",
        "            return f\"X={x}, Y={y}\"\n",
        "        case _:\n",
        "            raise ValueError(\"Not a point\")"
      ]
    },
    {
      "cell_type": "markdown",
      "metadata": {
        "id": "Etxht45hZlvK"
      },
      "source": [
        "\n",
        "## ⛳ Enum\n",
        "Set of symbolic names bound to unique values"
      ]
    },
    {
      "cell_type": "code",
      "execution_count": 3,
      "metadata": {
        "colab": {
          "base_uri": "https://localhost:8080/"
        },
        "id": "PBFoLRY3Zs70",
        "outputId": "43d5ce22-a4c5-4262-ace5-0c4c400ec1b7"
      },
      "outputs": [
        {
          "name": "stdout",
          "output_type": "stream",
          "text": [
            "<flag 'AutoDays'> AutoDays.SATURDAY SATURDAY 32\n",
            "<flag 'AutoDays'> AutoDays.SUNDAY SUNDAY 64\n"
          ]
        }
      ],
      "source": [
        "from enum import Enum, Flag, auto\n",
        "\n",
        "\n",
        "class Color(Enum):\n",
        "    RED = 1\n",
        "    GREEN = 2\n",
        "    BLUE = 3\n",
        "\n",
        "\n",
        "class Days(Flag):\n",
        "    MONDAY = 1\n",
        "    TUESDAY = 2\n",
        "    WEDNESDAY = 4\n",
        "    THURSDAY = 8\n",
        "    FRIDAY = 16\n",
        "    SATURDAY = 32\n",
        "    SUNDAY = 64\n",
        "    WEEKEND = SATURDAY | SUNDAY\n",
        "\n",
        "\n",
        "class AutoDays(Flag):\n",
        "    MONDAY = auto()\n",
        "    TUESDAY = auto()\n",
        "    WEDNESDAY = auto()\n",
        "    THURSDAY = auto()\n",
        "    FRIDAY = auto()\n",
        "    SATURDAY = auto()\n",
        "    SUNDAY = auto()\n",
        "    WEEKEND = SATURDAY | SUNDAY\n",
        "\n",
        "\n",
        "for day in AutoDays.WEEKEND:\n",
        "    print(type(day), day, day.name, day.value)"
      ]
    },
    {
      "cell_type": "markdown",
      "metadata": {
        "id": "e77mpJ1Ki6GP"
      },
      "source": [
        "## 📈 Functional Programming\n"
      ]
    },
    {
      "cell_type": "code",
      "execution_count": 4,
      "metadata": {
        "colab": {
          "base_uri": "https://localhost:8080/"
        },
        "id": "VIqrNvuqjTum",
        "outputId": "cd3d5be7-b74e-43de-91e7-47a4e2f4ed22"
      },
      "outputs": [
        {
          "name": "stdout",
          "output_type": "stream",
          "text": [
            "Positional args: (2, 3)\n",
            "Keyword args: {}\n",
            "5\n",
            "1 4 9 16 25\n",
            "2 4\n",
            "Cache factorial(5): 120\n",
            "Reuse factorial(5): 720\n",
            "0 1\n",
            "120\n"
          ]
        }
      ],
      "source": [
        "# 1. Decorators\n",
        "from typing import Any, Callable\n",
        "\n",
        "def print_args(fn: Callable) -> Callable:\n",
        "    def decorated_fn(*args: Any, **kwargs: Any) -> Any:\n",
        "        print(f\"Positional args: {args}\")\n",
        "        print(f\"Keyword args: {kwargs}\")\n",
        "        return fn(*args, **kwargs)\n",
        "\n",
        "    return decorated_fn\n",
        "\n",
        "\n",
        "@print_args  # Equivalent to add = print_args(add)\n",
        "def add(a: int, b: int) -> int:\n",
        "    return a + b\n",
        "\n",
        "\n",
        "print(add(2, 3))\n",
        "\n",
        "# 2. Helper Generators: map, filter\n",
        "\n",
        "numbers = [1, 2, 3, 4, 5]\n",
        "print(*map(lambda x: x * x, numbers))\n",
        "print(*filter(lambda x: x % 2 == 0, numbers))\n",
        "\n",
        "# 3. Functools\n",
        "\n",
        "from functools import cache, partial, reduce\n",
        "\n",
        "\n",
        "@cache\n",
        "def factorial(n: int) -> int:\n",
        "    return n * factorial(n - 1) if n > 0 else 1\n",
        "\n",
        "\n",
        "print(\"Cache factorial(5):\", factorial(5))\n",
        "print(\"Reuse factorial(5):\", factorial(6))\n",
        "\n",
        "relu = partial(max, 0)\n",
        "print(relu(-1), relu(1))\n",
        "\n",
        "\n",
        "def factoriall(n: int) -> int:\n",
        "    return reduce(lambda x, y: x * y, range(1, n + 1))\n",
        "\n",
        "\n",
        "print(factoriall(5))"
      ]
    },
    {
      "cell_type": "markdown",
      "metadata": {
        "id": "OEZdAOcmigYU"
      },
      "source": [
        "## 💾 Asyncio\n",
        "For i/o-bound applications.\n",
        "\n",
        "Concurrency via non-blocking io, managed by a single-threaded event-loop."
      ]
    },
    {
      "cell_type": "code",
      "execution_count": 5,
      "metadata": {
        "colab": {
          "base_uri": "https://localhost:8080/"
        },
        "id": "TSyj4M38xurc",
        "outputId": "049e7190-0061-4b2c-ba52-52250c74333f"
      },
      "outputs": [
        {
          "ename": "AttributeError",
          "evalue": "module 'asyncio' has no attribute 'Generator'",
          "output_type": "error",
          "traceback": [
            "\u001b[0;31m---------------------------------------------------------------------------\u001b[0m",
            "\u001b[0;31mAttributeError\u001b[0m                            Traceback (most recent call last)",
            "Cell \u001b[0;32mIn[5], line 15\u001b[0m\n\u001b[1;32m     11\u001b[0m         \u001b[38;5;28mprint\u001b[39m(\u001b[38;5;124mf\u001b[39m\u001b[38;5;124m\"\u001b[39m\u001b[38;5;124mCoroutine 1: \u001b[39m\u001b[38;5;132;01m{\u001b[39;00mi\u001b[38;5;132;01m}\u001b[39;00m\u001b[38;5;124m\"\u001b[39m)\n\u001b[1;32m     12\u001b[0m     \u001b[38;5;28;01mreturn\u001b[39;00m \u001b[38;5;241m1\u001b[39m\n\u001b[0;32m---> 15\u001b[0m \u001b[38;5;28;01masync\u001b[39;00m \u001b[38;5;28;01mdef\u001b[39;00m\u001b[38;5;250m \u001b[39m\u001b[38;5;21mcoro2_helper\u001b[39m() \u001b[38;5;241m-\u001b[39m\u001b[38;5;241m>\u001b[39m \u001b[43masyncio\u001b[49m\u001b[38;5;241;43m.\u001b[39;49m\u001b[43mGenerator\u001b[49m[\u001b[38;5;28mint\u001b[39m, \u001b[38;5;28;01mNone\u001b[39;00m, \u001b[38;5;28;01mNone\u001b[39;00m]:\n\u001b[1;32m     16\u001b[0m     \u001b[38;5;28;01mfor\u001b[39;00m i \u001b[38;5;129;01min\u001b[39;00m \u001b[38;5;28mrange\u001b[39m(\u001b[38;5;241m3\u001b[39m):\n\u001b[1;32m     17\u001b[0m         \u001b[38;5;28;01mawait\u001b[39;00m asyncio\u001b[38;5;241m.\u001b[39msleep(random\u001b[38;5;241m.\u001b[39mrandom())\n",
            "\u001b[0;31mAttributeError\u001b[0m: module 'asyncio' has no attribute 'Generator'"
          ]
        }
      ],
      "source": [
        "import aiofiles\n",
        "import aiohttp\n",
        "import asyncio\n",
        "import random\n",
        "\n",
        "\n",
        "async def coro1() -> int:\n",
        "    for i in range(3):\n",
        "        # await cedes control to the event loop; it can only be invoked from coros.\n",
        "        await asyncio.sleep(random.random())\n",
        "        print(f\"Coroutine 1: {i}\")\n",
        "    return 1\n",
        "\n",
        "\n",
        "async def coro2_helper() -> asyncio.Generator[int, None, None]:\n",
        "    for i in range(3):\n",
        "        await asyncio.sleep(random.random())\n",
        "        yield i\n",
        "\n",
        "\n",
        "async def coro2() -> int:\n",
        "    async for i in coro2_helper():\n",
        "        print(f\"Coroutine 2: {i}\")\n",
        "    return 2\n",
        "\n",
        "\n",
        "async def coro3_helper(session: aiohttp.ClientSession, file: aiofiles.tempfile.NamedTemporaryFile, url: str) -> int:\n",
        "    await asyncio.sleep(random.random())\n",
        "    try:\n",
        "        async with session.get(url) as response:\n",
        "            await file.write(await response.text())\n",
        "            status = response.status\n",
        "    except aiohttp.ClientError:\n",
        "        status = -1\n",
        "\n",
        "    print(f\"Coroutine 3: {url}\")\n",
        "    return status\n",
        "\n",
        "\n",
        "async def coro3() -> list[int]:\n",
        "    async with (\n",
        "        aiohttp.ClientSession() as session,\n",
        "        aiofiles.tempfile.NamedTemporaryFile(\"w+\") as file,\n",
        "    ):\n",
        "        helpers = [\n",
        "            coro3_helper(\n",
        "                session,\n",
        "                file,\n",
        "                f\"https://www.randomnumberapi.com/api/v1.0/random?count={i + 1}\",\n",
        "            )\n",
        "            for i in range(3)\n",
        "        ]\n",
        "        result = await asyncio.gather(*helpers)\n",
        "\n",
        "        await file.seek(0)\n",
        "        async for line in file:\n",
        "            print(line, end=\"\")\n",
        "\n",
        "    return result\n",
        "\n",
        "\n",
        "async def main() -> None:\n",
        "    # Schedule all coroutines to run concurrently.\n",
        "    results = await asyncio.gather(coro1(), coro2(), coro3())\n",
        "    print(results)\n",
        "\n",
        "\n",
        "def is_event_loop_running() -> bool:\n",
        "    try:\n",
        "        asyncio.get_running_loop()\n",
        "        return True\n",
        "    except RuntimeError:\n",
        "        return False\n",
        "\n",
        "\n",
        "assert is_event_loop_running()\n",
        "\n",
        "# Schedule on the running event loop in Jupyter.\n",
        "# Note: For standalone scripts, use asyncio.run(main()) to start the event loop.\n",
        "await main()"
      ]
    },
    {
      "cell_type": "markdown",
      "metadata": {
        "id": "THAK1gpSJnwi"
      },
      "source": [
        "## 🖥 Multiprocessing or ProcessPoolExecutor\n",
        "For cpu-bound applications.\n",
        "\n",
        "Concurrency via multiple processes, to bypass the GIL.\n",
        "\n",
        "Note1: Combine asyncio and multiprocessesing with [aiomultiprocess](https://github.com/omnilib/aiomultiprocess).\n",
        "\n",
        "Note2: Alternatively, use Ray for distributed programming."
      ]
    },
    {
      "cell_type": "code",
      "execution_count": 25,
      "metadata": {
        "colab": {
          "base_uri": "https://localhost:8080/"
        },
        "id": "N-9lusK2KgfA",
        "outputId": "546ee01a-99be-40ce-adc2-ed3468c61ef1"
      },
      "outputs": [],
      "source": [
        "import multiprocessing\n",
        "from concurrent.futures import ProcessPoolExecutor\n",
        "\n",
        "\n",
        "def cpu_task(n: int) -> int:\n",
        "    return sum(i * i for i in range(n))\n",
        "\n",
        "def main1() -> None:\n",
        "    with multiprocessing.Pool() as pool:\n",
        "        results = pool.map(cpu_task, [10**6, 10**6, 10**6])\n",
        "    print(results)\n",
        "\n",
        "def main2() -> None:\n",
        "    with ProcessPoolExecutor() as executor:\n",
        "        results = executor.map(cpu_task, [10**6, 10**6, 10**6])\n",
        "    for result in results:\n",
        "        print(result)\n",
        "\n",
        "# main1()\n",
        "# main2()"
      ]
    },
    {
      "cell_type": "markdown",
      "metadata": {
        "id": "1lFoRdXQjBXE"
      },
      "source": [
        "## 🏛 Libraries"
      ]
    },
    {
      "cell_type": "code",
      "execution_count": 26,
      "metadata": {
        "colab": {
          "base_uri": "https://localhost:8080/"
        },
        "id": "_Q9qanjOjMqh",
        "outputId": "c377b395-83e0-4232-8d9e-c12c817d0359"
      },
      "outputs": [
        {
          "name": "stdout",
          "output_type": "stream",
          "text": [
            "m i s p 11\n",
            "m i i i i s s s s p p\n",
            "[('i', 4), ('s', 4)]\n",
            "defaultdict(<class 'list'>, {'m': [0], 'i': [1, 4, 7, 10], 's': [2, 3, 5, 6], 'p': [8, 9]})\n",
            "0\n",
            "p.x=1, p.y=1\n",
            "a b c d\n",
            "b c d\n",
            "c d b\n",
            "b c d\n",
            "A B C D A B C D A B\n",
            "1 8 81 1024\n",
            "('A', '1') ('A', '2') ('A', '3') ('B', '1') ('B', '2') ('B', '3') ('C', '1') ('C', '2') ('C', '3')\n"
          ]
        }
      ],
      "source": [
        "# 1. collections: https://docs.python.org/3/library/collections.html\n",
        "\n",
        "from collections import Counter, defaultdict, deque, namedtuple, OrderedDict\n",
        "from typing import List, Tuple, Dict\n",
        "\n",
        "letters = Counter(\"mississippi\")\n",
        "print(*letters, letters.total())\n",
        "print(*letters.elements())\n",
        "print(letters.most_common(2))\n",
        "\n",
        "d: Dict[str, List[int]] = defaultdict(list)\n",
        "for i, c in enumerate(\"mississippi\"):\n",
        "    d[c].append(i)\n",
        "print(d)\n",
        "\n",
        "queue = deque([1, 2, 3])\n",
        "queue.appendleft(0)\n",
        "print(queue.popleft())\n",
        "\n",
        "Point = namedtuple(\"Point\", [\"x\", \"y\"])\n",
        "p = Point(1, 1)\n",
        "print(f\"{p.x=}, {p.y=}\")\n",
        "\n",
        "d = OrderedDict.fromkeys(\"abcde\")\n",
        "a = d.popitem()\n",
        "print(*d)\n",
        "e = d.popitem(last=False)\n",
        "print(*d)\n",
        "d.move_to_end(\"b\")\n",
        "print(*d)\n",
        "d.move_to_end(\"b\", last=False)\n",
        "print(*d)\n",
        "\n",
        "\n",
        "# 2. itertools: https://docs.python.org/3/library/itertools.html\n",
        "\n",
        "from itertools import cycle, islice, product, starmap\n",
        "\n",
        "# Infinators\n",
        "print(*islice(cycle(\"ABCD\"), 10))\n",
        "\n",
        "# Terminators\n",
        "print(*starmap(pow, [(1, 2), (2, 3), (3, 4), (4, 5)]))\n",
        "\n",
        "# Combinators\n",
        "print(*product(\"ABC\", \"123\"))\n",
        "\n",
        "\n",
        "# 3. pickle: serialize/unserialize python objects in binary\n",
        "\n",
        "import pickle\n",
        "import tempfile\n",
        "\n",
        "idata: Dict[str, str] = {\"name\": \"Mohit\", \"city\": \"Seattle\"}\n",
        "\n",
        "with tempfile.NamedTemporaryFile(prefix=\"tmp\", suffix=\".pkl\", mode=\"w+b\",) as file:\n",
        "    pickle.dump(idata, file)\n",
        "    file.seek(0)\n",
        "    odata: Dict[str, str] = pickle.load(file)\n",
        "\n",
        "assert idata == odata"
      ]
    },
    {
      "cell_type": "markdown",
      "metadata": {
        "id": "HtUdqWrF1jFi"
      },
      "source": [
        "## 🎲 Miscellaneous"
      ]
    },
    {
      "cell_type": "code",
      "execution_count": 27,
      "metadata": {
        "colab": {
          "base_uri": "https://localhost:8080/"
        },
        "id": "gWFZ65r71hvG",
        "outputId": "cdeb4a5a-586b-4c1f-dc4d-0f31afc29483"
      },
      "outputs": [
        {
          "name": "stdout",
          "output_type": "stream",
          "text": [
            "prefix suffix\n",
            "Super majority requires two_thirds=66.67%\n",
            "B\n",
            "C\n",
            "PythonTutorial.ipynb -> 19168 bytes\n",
            "README.md -> 102 bytes\n",
            ".venv -> 256 bytes\n",
            "app.py -> 23 bytes\n",
            ".git -> 480 bytes\n"
          ]
        }
      ],
      "source": [
        "# 1. Walrus Operator: assign values to variables as part of a larger expression:\n",
        "suffix: List[str] = []\n",
        "word: List[str] = list(\"prefix_suffix\")\n",
        "while (c := word.pop()) != \"_\":\n",
        "    suffix.append(c)\n",
        "print(\"\".join(word), \"\".join(reversed(suffix)))\n",
        "\n",
        "\n",
        "# 2. F-strings: include the value of an expression inside a string using {}\n",
        "# Optionally use '=' to include the expression text\n",
        "# Optionally use ':' to provide a format specifier\n",
        "two_thirds: float = 2 / 3\n",
        "print(f\"Super majority requires {two_thirds=:.2%}\")\n",
        "\n",
        "\n",
        "# 3. Super: Call methods of the parent class:\n",
        "class A:\n",
        "    def __init__(self) -> None:\n",
        "        print(\"A\")\n",
        "\n",
        "\n",
        "class B(A):\n",
        "    def __init__(self) -> None:\n",
        "        print(\"B\")\n",
        "\n",
        "\n",
        "class C(B):\n",
        "    def __init__(self) -> None:\n",
        "        super().__init__()  # Same as super(C, self).__init__()\n",
        "        print(\"C\")\n",
        "\n",
        "\n",
        "c = C()\n",
        "\n",
        "\n",
        "# 4. Context Manager:\n",
        "# . Call expression to obtain a context manager\n",
        "# . Store the context manager’s .__enter__() and .__exit__() methods\n",
        "# . Call .__enter__() and bind its return value to the optional target variable\n",
        "# . Execute the with code block\n",
        "# . Call .__exit__() when the with code block finishes\n",
        "import os\n",
        "\n",
        "with os.scandir(\".\") as entries:\n",
        "    for entry in entries:\n",
        "        print(entry.name, \"->\", entry.stat().st_size, \"bytes\")"
      ]
    }
  ],
  "metadata": {
    "colab": {
      "authorship_tag": "ABX9TyPQ5CterHW9fW4rIPXO0K0G",
      "collapsed_sections": [
        "PjU6ABI8Yqhs",
        "Etxht45hZlvK",
        "e77mpJ1Ki6GP",
        "THAK1gpSJnwi",
        "1lFoRdXQjBXE",
        "HtUdqWrF1jFi"
      ],
      "include_colab_link": true,
      "provenance": []
    },
    "kernelspec": {
      "display_name": ".venv",
      "language": "python",
      "name": "python3"
    },
    "language_info": {
      "codemirror_mode": {
        "name": "ipython",
        "version": 3
      },
      "file_extension": ".py",
      "mimetype": "text/x-python",
      "name": "python",
      "nbconvert_exporter": "python",
      "pygments_lexer": "ipython3",
      "version": "3.13.1"
    }
  },
  "nbformat": 4,
  "nbformat_minor": 0
}
