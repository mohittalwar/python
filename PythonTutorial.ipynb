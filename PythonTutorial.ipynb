{
  "nbformat": 4,
  "nbformat_minor": 0,
  "metadata": {
    "colab": {
      "provenance": [],
      "authorship_tag": "ABX9TyM+dj7rM4qyZ4Z2nHV11g6S",
      "include_colab_link": true
    },
    "kernelspec": {
      "name": "python3",
      "display_name": "Python 3"
    },
    "language_info": {
      "name": "python"
    }
  },
  "cells": [
    {
      "cell_type": "markdown",
      "metadata": {
        "id": "view-in-github",
        "colab_type": "text"
      },
      "source": [
        "<a href=\"https://colab.research.google.com/github/mohittalwar/python/blob/main/PythonTutorial.ipynb\" target=\"_parent\"><img src=\"https://colab.research.google.com/assets/colab-badge.svg\" alt=\"Open In Colab\"/></a>"
      ]
    },
    {
      "cell_type": "markdown",
      "source": [
        "# Python Tutorial++\n",
        "\n",
        "Addendum to [Python 3.5 Tutorial](https://drive.google.com/open?id=1B8IvfcO7Gt_lXT6a-Bbvpqe4BXi5SW4U)"
      ],
      "metadata": {
        "id": "O88jww3hYGv7"
      }
    },
    {
      "cell_type": "markdown",
      "source": [
        "## Match 💼"
      ],
      "metadata": {
        "id": "PjU6ABI8Yqhs"
      }
    },
    {
      "cell_type": "code",
      "execution_count": 29,
      "metadata": {
        "id": "Oue9sYWhYAm_"
      },
      "outputs": [],
      "source": [
        "# 1. Take an expression and compare its value to successive patterns:\n",
        "def http_error(status):\n",
        "  match status:\n",
        "    case 400:\n",
        "      return \"Bad request\"\n",
        "    case 404:\n",
        "      return \"Not found\"\n",
        "    case 401 | 403:       # multiple literals\n",
        "      return \"Not allowed\"\n",
        "    case _:               # wildcard\n",
        "      return \"Something's wrong with the Internet\"\n",
        "\n",
        "# 2. Bind variables:\n",
        "def point_name(point):\n",
        "  match point:\n",
        "    case (0, 0):\n",
        "      return \"Origin\"\n",
        "    case (0, y):\n",
        "      return f\"Y={y}\"\n",
        "    case (x, 0):\n",
        "      return f\"X={x}\"\n",
        "    case (x, y) if x == y:  # guard match\n",
        "      return f\"Y=X at {x}\"\n",
        "    case (x, y):\n",
        "      return f\"X={x}, Y={y}\"\n",
        "    case _:\n",
        "      raise ValueError(\"Not a point\")"
      ]
    },
    {
      "cell_type": "markdown",
      "source": [
        "\n",
        "## Enum ⛳\n",
        "Set of symbolic names bound to unique values"
      ],
      "metadata": {
        "id": "Etxht45hZlvK"
      }
    },
    {
      "cell_type": "code",
      "source": [
        "from enum import Enum, Flag, auto\n",
        "\n",
        "class Color(Enum):\n",
        "    RED = 1\n",
        "    GREEN = 2\n",
        "    BLUE = 3\n",
        "\n",
        "class Days(Flag):\n",
        "    MONDAY = 1\n",
        "    TUESDAY = 2\n",
        "    WEDNESDAY = 4\n",
        "    THURSDAY = 8\n",
        "    FRIDAY = 16\n",
        "    SATURDAY = 32\n",
        "    SUNDAY = 64\n",
        "    WEEKEND = SATURDAY | SUNDAY\n",
        "\n",
        "class AutoDays(Flag):\n",
        "    MONDAY = auto()\n",
        "    TUESDAY = auto()\n",
        "    WEDNESDAY = auto()\n",
        "    THURSDAY = auto()\n",
        "    FRIDAY = auto()\n",
        "    SATURDAY = auto()\n",
        "    SUNDAY = auto()\n",
        "    WEEKEND = SATURDAY | SUNDAY\n",
        "\n",
        "for day in AutoDays.WEEKEND:\n",
        "    print(type(day), day, day.name, day.value)"
      ],
      "metadata": {
        "colab": {
          "base_uri": "https://localhost:8080/"
        },
        "id": "PBFoLRY3Zs70",
        "outputId": "320c2139-d660-483c-e2fd-36b17a1aa865"
      },
      "execution_count": 30,
      "outputs": [
        {
          "output_type": "stream",
          "name": "stdout",
          "text": [
            "<flag 'AutoDays'> AutoDays.SATURDAY SATURDAY 32\n",
            "<flag 'AutoDays'> AutoDays.SUNDAY SUNDAY 64\n"
          ]
        }
      ]
    },
    {
      "cell_type": "markdown",
      "source": [
        "## Functional Programming"
      ],
      "metadata": {
        "id": "e77mpJ1Ki6GP"
      }
    },
    {
      "cell_type": "code",
      "source": [
        "# Generators Decorators Functools"
      ],
      "metadata": {
        "id": "VIqrNvuqjTum"
      },
      "execution_count": null,
      "outputs": []
    },
    {
      "cell_type": "markdown",
      "source": [
        "## Libraries"
      ],
      "metadata": {
        "id": "1lFoRdXQjBXE"
      }
    },
    {
      "cell_type": "code",
      "source": [
        "# pickle\n",
        "# collections\n",
        "# itertools"
      ],
      "metadata": {
        "id": "_Q9qanjOjMqh"
      },
      "execution_count": null,
      "outputs": []
    },
    {
      "cell_type": "markdown",
      "source": [
        "## Asyncio"
      ],
      "metadata": {
        "id": "OEZdAOcmigYU"
      }
    },
    {
      "cell_type": "markdown",
      "source": [
        "## Features 🖼\n"
      ],
      "metadata": {
        "id": "E729dvMxaKfv"
      }
    },
    {
      "cell_type": "code",
      "source": [
        "# 1. Walrus Operator: Assign values to variables as part of a larger expression:\n",
        "suffix = []\n",
        "word = list(\"prefix_suffix\")\n",
        "while (c := word.pop()) != \"_\":\n",
        "  suffix.append(c)\n",
        "print(\"\".join(word), \"\".join(reversed(suffix)))\n",
        "\n",
        "# 2. F-strings: Include the value of an expression inside a string using {}\n",
        "# Optionally use '=' to include the expression text\n",
        "# Optionally use ':' to provide a format specifier\n",
        "two_third = 2/3\n",
        "print(f\"Super majority requires {two_third=:.2%}\")\n",
        "\n",
        "# 3. Super: Call methods of the parent class:\n",
        "class A:\n",
        "  def __init__(self):\n",
        "    print(\"A\")\n",
        "\n",
        "class B(A):\n",
        "  def __init__(self):\n",
        "    print(\"B\")\n",
        "\n",
        "class C(B):\n",
        "  def __init__(self):\n",
        "    super().__init__()  # Same as super(C, self).__init__()\n",
        "    print(\"C\")\n",
        "\n",
        "c = C()"
      ],
      "metadata": {
        "colab": {
          "base_uri": "https://localhost:8080/"
        },
        "id": "b6nX9IAvaJ0P",
        "outputId": "f9f5cb09-c4f4-4233-c52f-aa743f150474"
      },
      "execution_count": 55,
      "outputs": [
        {
          "output_type": "stream",
          "name": "stdout",
          "text": [
            "prefix suffix\n",
            "Super majority requires two_third=66.67%\n",
            "B\n",
            "C\n"
          ]
        }
      ]
    },
    {
      "cell_type": "code",
      "source": [],
      "metadata": {
        "id": "li-4wc-6aIN6"
      },
      "execution_count": null,
      "outputs": []
    }
  ]
}