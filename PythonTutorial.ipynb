{
  "nbformat": 4,
  "nbformat_minor": 0,
  "metadata": {
    "colab": {
      "provenance": [],
      "authorship_tag": "ABX9TyMZ5Wu2XyejqKLZZqpgUX3Q"
    },
    "kernelspec": {
      "name": "python3",
      "display_name": "Python 3"
    },
    "language_info": {
      "name": "python"
    }
  },
  "cells": [
    {
      "cell_type": "markdown",
      "source": [
        "# Python Tutorial++\n",
        "\n",
        "Addendum to [Python 3.5 Tutorial](https://drive.google.com/open?id=1B8IvfcO7Gt_lXT6a-Bbvpqe4BXi5SW4U)"
      ],
      "metadata": {
        "id": "O88jww3hYGv7"
      }
    },
    {
      "cell_type": "markdown",
      "source": [
        "## Match 💼"
      ],
      "metadata": {
        "id": "PjU6ABI8Yqhs"
      }
    },
    {
      "cell_type": "code",
      "execution_count": null,
      "metadata": {
        "id": "Oue9sYWhYAm_"
      },
      "outputs": [],
      "source": [
        "# 1. Take an expression and compare its value to successive patterns\n",
        "def http_error(status):\n",
        "  match status:\n",
        "    case 400:\n",
        "      return \"Bad request\"\n",
        "    case 404:\n",
        "      return \"Not found\"\n",
        "    case 401 | 403:       # multiple literals\n",
        "      return \"Not allowed\"\n",
        "    case _:               # wildcard\n",
        "      return \"Something's wrong with the Internet\"\n",
        "\n",
        "# 2. Bind variables\n",
        "def point_name(point):\n",
        "  match point:\n",
        "    case (0, 0):\n",
        "      return \"Origin\"\n",
        "    case (0, y):\n",
        "      return f\"Y={y}\"\n",
        "    case (x, 0):\n",
        "      return f\"X={x}\"\n",
        "    case (x, y) if x == y:  # guard match\n",
        "      return f\"Y=X at {x}\"\n",
        "    case (x, y):\n",
        "      return f\"X={x}, Y={y}\"\n",
        "    case _:\n",
        "      raise ValueError(\"Not a point\")"
      ]
    },
    {
      "cell_type": "markdown",
      "source": [
        "\n",
        "## Enum ⛳\n",
        "Set of symbolic names bound to unique values"
      ],
      "metadata": {
        "id": "Etxht45hZlvK"
      }
    },
    {
      "cell_type": "code",
      "source": [
        "from enum import Enum, Flag, auto\n",
        "\n",
        "class Color(Enum):\n",
        "    RED = 1\n",
        "    GREEN = 2\n",
        "    BLUE = 3\n",
        "\n",
        "class Days(Flag):\n",
        "    MONDAY = 1\n",
        "    TUESDAY = 2\n",
        "    WEDNESDAY = 4\n",
        "    THURSDAY = 8\n",
        "    FRIDAY = 16\n",
        "    SATURDAY = 32\n",
        "    SUNDAY = 64\n",
        "    WEEKEND = SATURDAY | SUNDAY\n",
        "\n",
        "class AutoDays(Flag):\n",
        "    MONDAY = auto()\n",
        "    TUESDAY = auto()\n",
        "    WEDNESDAY = auto()\n",
        "    THURSDAY = auto()\n",
        "    FRIDAY = auto()\n",
        "    SATURDAY = auto()\n",
        "    SUNDAY = auto()\n",
        "    WEEKEND = SATURDAY | SUNDAY\n",
        "\n",
        "for day in AutoDays.WEEKEND:\n",
        "    print(type(day), day, day.name, day.value)"
      ],
      "metadata": {
        "colab": {
          "base_uri": "https://localhost:8080/"
        },
        "id": "PBFoLRY3Zs70",
        "outputId": "320c2139-d660-483c-e2fd-36b17a1aa865"
      },
      "execution_count": null,
      "outputs": [
        {
          "output_type": "stream",
          "name": "stdout",
          "text": [
            "<flag 'AutoDays'> AutoDays.SATURDAY SATURDAY 32\n",
            "<flag 'AutoDays'> AutoDays.SUNDAY SUNDAY 64\n"
          ]
        }
      ]
    },
    {
      "cell_type": "markdown",
      "source": [
        "## Functional Programming"
      ],
      "metadata": {
        "id": "e77mpJ1Ki6GP"
      }
    },
    {
      "cell_type": "code",
      "source": [
        "# 1. Decorators\n",
        "def print_args(fn):\n",
        "  def decorated_fn(*args, **kwargs):\n",
        "    print(f'Positional args: {args}')\n",
        "    print(f'Keyword args: {kwargs}')\n",
        "    return fn(*args, **kwargs)\n",
        "  return decorated_fn\n",
        "\n",
        "@print_args  # Equivalent to add = print_args(add)\n",
        "def add(a, b):\n",
        "  return a + b\n",
        "\n",
        "print(add(2, 3))\n",
        "\n",
        "# 2. Helper Generators: map, filter\n",
        "\n",
        "numbers= [1, 2, 3, 4, 5]\n",
        "print(*map(lambda x: x * x, numbers))\n",
        "print(*filter(lambda x: x % 2 == 0, numbers))\n",
        "\n",
        "# 3. Functools\n",
        "\n",
        "from functools import cache, partial, reduce\n",
        "\n",
        "@cache\n",
        "def factorial(n):\n",
        "  return n * factorial(n - 1) if n else 1\n",
        "print(factorial(5), factorial(6))\n",
        "\n",
        "relu = partial(max, 0)\n",
        "print(relu(-1), relu(1))\n",
        "\n",
        "def factoriall(n):\n",
        "  return reduce(lambda x, y: x * y, range(1, n + 1))\n",
        "print(factoriall(5))"
      ],
      "metadata": {
        "colab": {
          "base_uri": "https://localhost:8080/"
        },
        "id": "VIqrNvuqjTum",
        "outputId": "5daccc06-df66-43e0-f0f1-ac9962ce517b"
      },
      "execution_count": null,
      "outputs": [
        {
          "output_type": "stream",
          "name": "stdout",
          "text": [
            "Positional args: (2, 3)\n",
            "Keyword args: {}\n",
            "5\n",
            "1 4 9 16 25\n",
            "2 4\n",
            "120 720\n",
            "0 1\n",
            "120\n"
          ]
        }
      ]
    },
    {
      "cell_type": "markdown",
      "source": [
        "## Libraries"
      ],
      "metadata": {
        "id": "1lFoRdXQjBXE"
      }
    },
    {
      "cell_type": "code",
      "source": [
        "# 1. collections\n",
        "\n",
        "from collections import Counter, defaultdict, deque, namedtuple, OrderedDict\n",
        "\n",
        "letters = Counter(\"mississippi\")\n",
        "print(*letters, letters.total())\n",
        "print(*letters.elements())\n",
        "print(letters.most_common(2))\n",
        "\n",
        "queue = deque([1, 2, 3])\n",
        "queue.appendleft(0)\n",
        "print(queue.popleft())\n",
        "\n",
        "Point = namedtuple('Point', ['x', 'y'])\n",
        "p = Point(1, 1)\n",
        "print(f\"{p.x=}, {p.y=}\")\n",
        "\n",
        "\n",
        "\n",
        "# 2. itertools\n",
        "\n",
        "\n",
        "# 3. pickle: serialize/unserialize python objects in binary\n",
        "\n"
      ],
      "metadata": {
        "colab": {
          "base_uri": "https://localhost:8080/"
        },
        "id": "_Q9qanjOjMqh",
        "outputId": "381cb658-1d23-4dbd-9dd3-c493fd981039"
      },
      "execution_count": null,
      "outputs": [
        {
          "output_type": "stream",
          "name": "stdout",
          "text": [
            "m i s p 11\n",
            "m i i i i s s s s p p\n",
            "[('i', 4), ('s', 4)]\n",
            "p.x=1, p.y=1\n",
            "0\n"
          ]
        }
      ]
    },
    {
      "cell_type": "markdown",
      "source": [],
      "metadata": {
        "id": "ZHSNauiQJQVY"
      }
    },
    {
      "cell_type": "markdown",
      "source": [
        "## Asyncio"
      ],
      "metadata": {
        "id": "OEZdAOcmigYU"
      }
    },
    {
      "cell_type": "markdown",
      "source": [
        "## Miscellaneous"
      ],
      "metadata": {
        "id": "HtUdqWrF1jFi"
      }
    },
    {
      "cell_type": "code",
      "source": [
        "# 1. Walrus Operator: assign values to variables as part of a larger expression:\n",
        "suffix = []\n",
        "word = list(\"prefix_suffix\")\n",
        "while (c := word.pop()) != \"_\":\n",
        "  suffix.append(c)\n",
        "print(\"\".join(word), \"\".join(reversed(suffix)))\n",
        "\n",
        "\n",
        "# 2. F-strings: include the value of an expression inside a string using {}\n",
        "# Optionally use '=' to include the expression text\n",
        "# Optionally use ':' to provide a format specifier\n",
        "two_thirds = 2/3\n",
        "print(f\"Super majority requires {two_thirds=:.2%}\")\n",
        "\n",
        "\n",
        "# 3. Super: Call methods of the parent class:\n",
        "class A:\n",
        "  def __init__(self):\n",
        "    print(\"A\")\n",
        "\n",
        "class B(A):\n",
        "  def __init__(self):\n",
        "    print(\"B\")\n",
        "\n",
        "class C(B):\n",
        "  def __init__(self):\n",
        "    super().__init__()  # Same as super(C, self).__init__()\n",
        "    print(\"C\")\n",
        "\n",
        "c = C()\n",
        "\n",
        "\n",
        "# 4. Context Manager:\n",
        "# . Call expression to obtain a context manager\n",
        "# . Store the context manager’s .__enter__() and .__exit__() methods\n",
        "# . Call .__enter__() and bind its return value to the optional target variable\n",
        "# . Execute the with code block\n",
        "# . Call .__exit__() when the with code block finishes\n",
        "import os\n",
        "with os.scandir(\".\") as entries:\n",
        "  for entry in entries:\n",
        "    print(entry.name, \"->\", entry.stat().st_size, \"bytes\")"
      ],
      "metadata": {
        "colab": {
          "base_uri": "https://localhost:8080/"
        },
        "id": "gWFZ65r71hvG",
        "outputId": "99b7a09c-70e3-4b7c-d8f7-401372f83870"
      },
      "execution_count": 95,
      "outputs": [
        {
          "output_type": "stream",
          "name": "stdout",
          "text": [
            "prefix suffix\n",
            "Super majority requires two_thirds=66.67%\n",
            "B\n",
            "C\n",
            ".config -> 4096 bytes\n",
            "sample_data -> 4096 bytes\n"
          ]
        }
      ]
    }
  ]
}